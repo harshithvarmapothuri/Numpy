{
 "cells": [
  {
   "cell_type": "markdown",
   "id": "ea890d6c-fb56-4c47-97c6-0939c7c9f741",
   "metadata": {},
   "source": [
    "# Numpy"
   ]
  },
  {
   "cell_type": "markdown",
   "id": "ab450e34-1d6d-438c-b11f-2644b3a8fd29",
   "metadata": {},
   "source": [
    "## Numpy is used to do all the mathematical operations on python. Therby named after Numerical Python (Num Py)"
   ]
  },
  {
   "cell_type": "code",
   "execution_count": 52,
   "id": "f9fbe75d-43ac-4c31-bb0f-8639b924a87e",
   "metadata": {},
   "outputs": [],
   "source": [
    "import numpy as np"
   ]
  },
  {
   "cell_type": "code",
   "execution_count": 53,
   "id": "26289b61-7610-4b15-98ed-12c4477e23c3",
   "metadata": {},
   "outputs": [],
   "source": [
    "l=[1,2,3,4,5]"
   ]
  },
  {
   "cell_type": "code",
   "execution_count": 57,
   "id": "19a741ef-7347-499c-9522-5a0fe2f0bdda",
   "metadata": {},
   "outputs": [
    {
     "data": {
      "text/plain": [
       "array([1, 2, 3, 4, 5])"
      ]
     },
     "execution_count": 57,
     "metadata": {},
     "output_type": "execute_result"
    }
   ],
   "source": [
    "a=np.array(l)\n",
    "a"
   ]
  },
  {
   "cell_type": "code",
   "execution_count": 58,
   "id": "0aa44800-6d7e-4c07-9d72-05a3504cb354",
   "metadata": {},
   "outputs": [
    {
     "data": {
      "text/plain": [
       "array([1, 2, 3, 4, 5])"
      ]
     },
     "execution_count": 58,
     "metadata": {},
     "output_type": "execute_result"
    }
   ],
   "source": [
    "b=np.asarray(l)\n",
    "b"
   ]
  },
  {
   "cell_type": "code",
   "execution_count": 59,
   "id": "77a9ce0f-1b8a-46d9-b1ae-a3569e181647",
   "metadata": {},
   "outputs": [
    {
     "data": {
      "text/plain": [
       "array([1, 2, 3, 4, 5])"
      ]
     },
     "execution_count": 59,
     "metadata": {},
     "output_type": "execute_result"
    }
   ],
   "source": [
    "c=np.asanyarray(b)\n",
    "c"
   ]
  },
  {
   "cell_type": "code",
   "execution_count": 60,
   "id": "055340ae-a2e3-4701-a0af-0fb67bc84cc0",
   "metadata": {},
   "outputs": [],
   "source": [
    "d=[[1,2,3],[4,5,6],[7,8,9]]"
   ]
  },
  {
   "cell_type": "code",
   "execution_count": 62,
   "id": "6c8ef234-a109-4a3a-b086-1c65654a4157",
   "metadata": {},
   "outputs": [
    {
     "data": {
      "text/plain": [
       "array([[1, 2, 3],\n",
       "       [4, 5, 6],\n",
       "       [7, 8, 9]])"
      ]
     },
     "execution_count": 62,
     "metadata": {},
     "output_type": "execute_result"
    }
   ],
   "source": [
    "e=np.array(d)\n",
    "e"
   ]
  },
  {
   "cell_type": "code",
   "execution_count": 63,
   "id": "15210ebd-42d2-415f-8e08-29df8958a054",
   "metadata": {},
   "outputs": [
    {
     "data": {
      "text/plain": [
       "(5,)"
      ]
     },
     "execution_count": 63,
     "metadata": {},
     "output_type": "execute_result"
    }
   ],
   "source": [
    "a.shape"
   ]
  },
  {
   "cell_type": "code",
   "execution_count": 64,
   "id": "6b91ca76-e7c8-4366-b9df-87f982602790",
   "metadata": {},
   "outputs": [
    {
     "data": {
      "text/plain": [
       "5"
      ]
     },
     "execution_count": 64,
     "metadata": {},
     "output_type": "execute_result"
    }
   ],
   "source": [
    "a.size"
   ]
  },
  {
   "cell_type": "code",
   "execution_count": 65,
   "id": "969c1f79-35b4-46da-8cc8-73eb358055cf",
   "metadata": {},
   "outputs": [
    {
     "data": {
      "text/plain": [
       "1"
      ]
     },
     "execution_count": 65,
     "metadata": {},
     "output_type": "execute_result"
    }
   ],
   "source": [
    "a.ndim"
   ]
  },
  {
   "cell_type": "code",
   "execution_count": 66,
   "id": "37e0235b-6978-4fcd-af12-5f687ecd2913",
   "metadata": {},
   "outputs": [
    {
     "data": {
      "text/plain": [
       "(3, 3)"
      ]
     },
     "execution_count": 66,
     "metadata": {},
     "output_type": "execute_result"
    }
   ],
   "source": [
    "e.shape"
   ]
  },
  {
   "cell_type": "code",
   "execution_count": 67,
   "id": "4c88dc0e-11f2-4240-b517-5bf49f04cf92",
   "metadata": {},
   "outputs": [
    {
     "data": {
      "text/plain": [
       "9"
      ]
     },
     "execution_count": 67,
     "metadata": {},
     "output_type": "execute_result"
    }
   ],
   "source": [
    "e.size"
   ]
  },
  {
   "cell_type": "code",
   "execution_count": 68,
   "id": "1c8792e2-ee3a-4380-8d46-83b9bd3ab5b7",
   "metadata": {},
   "outputs": [
    {
     "data": {
      "text/plain": [
       "2"
      ]
     },
     "execution_count": 68,
     "metadata": {},
     "output_type": "execute_result"
    }
   ],
   "source": [
    "e.ndim"
   ]
  },
  {
   "cell_type": "code",
   "execution_count": 69,
   "id": "55ec7391-9fc1-4ff8-910b-32352b906a24",
   "metadata": {},
   "outputs": [
    {
     "data": {
      "text/plain": [
       "(numpy.ndarray, numpy.ndarray)"
      ]
     },
     "execution_count": 69,
     "metadata": {},
     "output_type": "execute_result"
    }
   ],
   "source": [
    "type(a),type(e)"
   ]
  },
  {
   "cell_type": "code",
   "execution_count": 71,
   "id": "adbe559e-c196-4621-b924-0a4d32e647fd",
   "metadata": {},
   "outputs": [
    {
     "data": {
      "text/plain": [
       "dtype('int64')"
      ]
     },
     "execution_count": 71,
     "metadata": {},
     "output_type": "execute_result"
    }
   ],
   "source": [
    "a.dtype"
   ]
  },
  {
   "cell_type": "code",
   "execution_count": 72,
   "id": "8434b8ca-8bdf-48e6-9df4-4748005d28f0",
   "metadata": {},
   "outputs": [
    {
     "data": {
      "text/plain": [
       "dtype('int64')"
      ]
     },
     "execution_count": 72,
     "metadata": {},
     "output_type": "execute_result"
    }
   ],
   "source": [
    "e.dtype"
   ]
  },
  {
   "cell_type": "code",
   "execution_count": 73,
   "id": "76f2eaaf-6f63-473a-8bcc-9d48a7afbdb3",
   "metadata": {},
   "outputs": [
    {
     "data": {
      "text/plain": [
       "matrix([[1, 2, 3]])"
      ]
     },
     "execution_count": 73,
     "metadata": {},
     "output_type": "execute_result"
    }
   ],
   "source": [
    "f=[1,2,3]\n",
    "g=np.matrix(f)\n",
    "g"
   ]
  },
  {
   "cell_type": "code",
   "execution_count": 74,
   "id": "e814898f-1c24-4124-8a6e-840d46a16194",
   "metadata": {},
   "outputs": [
    {
     "data": {
      "text/plain": [
       "matrix([[1, 2, 3]])"
      ]
     },
     "execution_count": 74,
     "metadata": {},
     "output_type": "execute_result"
    }
   ],
   "source": [
    "np.asanyarray(g)"
   ]
  },
  {
   "cell_type": "code",
   "execution_count": 75,
   "id": "81aac618-c9d4-4c37-b36b-b0b1507d3a0b",
   "metadata": {},
   "outputs": [
    {
     "data": {
      "text/plain": [
       "array([[ True, False, False, False],\n",
       "       [False,  True, False, False],\n",
       "       [False, False,  True, False],\n",
       "       [False, False, False,  True]])"
      ]
     },
     "execution_count": 75,
     "metadata": {},
     "output_type": "execute_result"
    }
   ],
   "source": [
    "np.fromfunction(lambda i,j: i==j,(4,4))"
   ]
  },
  {
   "cell_type": "code",
   "execution_count": 76,
   "id": "65b6d86c-8dc1-4dca-bb45-f9986611ac52",
   "metadata": {},
   "outputs": [],
   "source": [
    "iters=[i*i for i in range(11)]"
   ]
  },
  {
   "cell_type": "code",
   "execution_count": 80,
   "id": "3b1bcb30-27a9-4d6c-96c3-7a43a72a8a79",
   "metadata": {},
   "outputs": [
    {
     "data": {
      "text/plain": [
       "array([  0.,   1.,   4.,   9.,  16.,  25.,  36.,  49.,  64.,  81., 100.])"
      ]
     },
     "execution_count": 80,
     "metadata": {},
     "output_type": "execute_result"
    }
   ],
   "source": [
    "np.fromiter(iters,float)"
   ]
  },
  {
   "cell_type": "code",
   "execution_count": 81,
   "id": "6593e3ce-8562-4b14-ad53-48f91ad8379e",
   "metadata": {},
   "outputs": [
    {
     "name": "stderr",
     "output_type": "stream",
     "text": [
      "/tmp/ipykernel_102/474489934.py:1: DeprecationWarning: string or file could not be read to its end due to unmatched data; this will raise a ValueError in the future.\n",
      "  np.fromstring(\"hsh shhns hs s an abd adjb\",sep=\" \")\n"
     ]
    },
    {
     "data": {
      "text/plain": [
       "array([], dtype=float64)"
      ]
     },
     "execution_count": 81,
     "metadata": {},
     "output_type": "execute_result"
    }
   ],
   "source": [
    "np.fromstring(\"12 4 43 66 3 563 3  57  6 4 323 5\",sep=\" \")"
   ]
  },
  {
   "cell_type": "code",
   "execution_count": 85,
   "id": "594445c6-d2c8-4b81-9d14-1c668ac84fd1",
   "metadata": {},
   "outputs": [
    {
     "data": {
      "text/plain": [
       "array([1, 2, 3, 4, 5, 6, 7, 8, 9])"
      ]
     },
     "execution_count": 85,
     "metadata": {},
     "output_type": "execute_result"
    }
   ],
   "source": [
    "np.arange(1,10,1)"
   ]
  },
  {
   "cell_type": "code",
   "execution_count": 91,
   "id": "5320bef8-a2f4-4500-bf8c-823790795b28",
   "metadata": {},
   "outputs": [
    {
     "data": {
      "text/plain": [
       "array([-22.        , -19.22222222, -16.44444444, -13.66666667,\n",
       "       -10.88888889,  -8.11111111,  -5.33333333,  -2.55555556,\n",
       "         0.22222222,   3.        ])"
      ]
     },
     "execution_count": 91,
     "metadata": {},
     "output_type": "execute_result"
    }
   ],
   "source": [
    "np.linspace(-22,3,10)"
   ]
  },
  {
   "cell_type": "code",
   "execution_count": 92,
   "id": "1531a8de-9207-4f09-8b56-fec58a3dc469",
   "metadata": {},
   "outputs": [
    {
     "data": {
      "text/plain": [
       "array([1.00000000e+01, 1.93069773e+01, 3.72759372e+01, 7.19685673e+01,\n",
       "       1.38949549e+02, 2.68269580e+02, 5.17947468e+02, 1.00000000e+03,\n",
       "       1.93069773e+03, 3.72759372e+03, 7.19685673e+03, 1.38949549e+04,\n",
       "       2.68269580e+04, 5.17947468e+04, 1.00000000e+05])"
      ]
     },
     "execution_count": 92,
     "metadata": {},
     "output_type": "execute_result"
    }
   ],
   "source": [
    "np.logspace(1,5,15)"
   ]
  },
  {
   "cell_type": "code",
   "execution_count": 93,
   "id": "35cbc805-7abf-4074-a776-82587d771214",
   "metadata": {},
   "outputs": [
    {
     "data": {
      "text/plain": [
       "array([[4, 4, 2],\n",
       "       [3, 3, 4]])"
      ]
     },
     "execution_count": 93,
     "metadata": {},
     "output_type": "execute_result"
    }
   ],
   "source": [
    "np.random.randint(1,5,(2,3))"
   ]
  },
  {
   "cell_type": "code",
   "execution_count": 95,
   "id": "ef6c5c68-7f25-4eaf-a4fa-b4e6174e4c4b",
   "metadata": {},
   "outputs": [
    {
     "data": {
      "text/plain": [
       "array([[0.08367301, 0.78343311, 0.71139339, 0.93965412, 0.71495561,\n",
       "        0.48044144, 0.24588983, 0.72485972, 0.65323588, 0.64618872,\n",
       "        0.89762457, 0.78926811, 0.57523792, 0.12947843, 0.41921687]])"
      ]
     },
     "execution_count": 95,
     "metadata": {},
     "output_type": "execute_result"
    }
   ],
   "source": [
    "np.random.rand(1,15)"
   ]
  },
  {
   "cell_type": "code",
   "execution_count": 97,
   "id": "5fa35e96-99eb-4a8c-865c-98775b9c5216",
   "metadata": {},
   "outputs": [
    {
     "data": {
      "text/plain": [
       "array([[-0.66640135,  1.11057402,  0.27165799, -0.24538106,  0.41967993,\n",
       "         0.14674209,  0.65105344,  2.19521151, -0.25737895,  0.2709739 ,\n",
       "         1.04114527]])"
      ]
     },
     "execution_count": 97,
     "metadata": {},
     "output_type": "execute_result"
    }
   ],
   "source": [
    "np.random.randn(1,11)"
   ]
  },
  {
   "cell_type": "code",
   "execution_count": 98,
   "id": "0b4dd5d5-5299-4d3d-8083-28c216f75b82",
   "metadata": {},
   "outputs": [
    {
     "data": {
      "text/plain": [
       "2"
      ]
     },
     "execution_count": 98,
     "metadata": {},
     "output_type": "execute_result"
    }
   ],
   "source": [
    "np.random.randint(2,4)"
   ]
  },
  {
   "cell_type": "code",
   "execution_count": 99,
   "id": "d11c4d5b-a6c2-4b8e-960e-b07d01d93702",
   "metadata": {},
   "outputs": [],
   "source": [
    "a=np.random.randint(1,5,(2,3))\n",
    "b=np.random.randint(1,5,(2,3))"
   ]
  },
  {
   "cell_type": "code",
   "execution_count": 100,
   "id": "2fa9ac89-dc7b-4966-8c20-a0d603d39552",
   "metadata": {},
   "outputs": [
    {
     "data": {
      "text/plain": [
       "array([[2, 3, 2],\n",
       "       [4, 3, 1]])"
      ]
     },
     "execution_count": 100,
     "metadata": {},
     "output_type": "execute_result"
    }
   ],
   "source": [
    "a"
   ]
  },
  {
   "cell_type": "code",
   "execution_count": 101,
   "id": "3c1e7ddd-56c3-4725-a14c-8e299ac97ecf",
   "metadata": {},
   "outputs": [
    {
     "data": {
      "text/plain": [
       "array([[1, 3, 4],\n",
       "       [1, 1, 4]])"
      ]
     },
     "execution_count": 101,
     "metadata": {},
     "output_type": "execute_result"
    }
   ],
   "source": [
    "b"
   ]
  },
  {
   "cell_type": "code",
   "execution_count": 102,
   "id": "47819164-1e8d-4736-85d2-f2273260060d",
   "metadata": {},
   "outputs": [
    {
     "data": {
      "text/plain": [
       "array([[3, 6, 6],\n",
       "       [5, 4, 5]])"
      ]
     },
     "execution_count": 102,
     "metadata": {},
     "output_type": "execute_result"
    }
   ],
   "source": [
    "a+b"
   ]
  },
  {
   "cell_type": "code",
   "execution_count": 103,
   "id": "4c94a268-3e44-4d58-8180-16f2b0e22d8c",
   "metadata": {},
   "outputs": [
    {
     "data": {
      "text/plain": [
       "array([[7, 8, 7],\n",
       "       [9, 8, 6]])"
      ]
     },
     "execution_count": 103,
     "metadata": {},
     "output_type": "execute_result"
    }
   ],
   "source": [
    "a+5"
   ]
  },
  {
   "cell_type": "code",
   "execution_count": 104,
   "id": "846a1d14-d507-4b91-989a-c52921ba6308",
   "metadata": {},
   "outputs": [
    {
     "data": {
      "text/plain": [
       "array([[2, 9, 8],\n",
       "       [4, 3, 4]])"
      ]
     },
     "execution_count": 104,
     "metadata": {},
     "output_type": "execute_result"
    }
   ],
   "source": [
    "a*b"
   ]
  },
  {
   "cell_type": "code",
   "execution_count": 105,
   "id": "63470ad5-2a87-4b67-a88d-2df05cb39b43",
   "metadata": {},
   "outputs": [
    {
     "data": {
      "text/plain": [
       "array([[ 1,  0, -2],\n",
       "       [ 3,  2, -3]])"
      ]
     },
     "execution_count": 105,
     "metadata": {},
     "output_type": "execute_result"
    }
   ],
   "source": [
    "a-b"
   ]
  },
  {
   "cell_type": "code",
   "execution_count": 106,
   "id": "5070fb80-7293-4eae-b65b-4e8e0a965324",
   "metadata": {},
   "outputs": [
    {
     "data": {
      "text/plain": [
       "array([[2.  , 1.  , 0.5 ],\n",
       "       [4.  , 3.  , 0.25]])"
      ]
     },
     "execution_count": 106,
     "metadata": {},
     "output_type": "execute_result"
    }
   ],
   "source": [
    "a/b"
   ]
  },
  {
   "cell_type": "code",
   "execution_count": 108,
   "id": "3b287d01-35f1-496e-85f1-384ac0b2650e",
   "metadata": {},
   "outputs": [
    {
     "data": {
      "text/plain": [
       "array([[2, 3, 2],\n",
       "       [4, 3, 1]])"
      ]
     },
     "execution_count": 108,
     "metadata": {},
     "output_type": "execute_result"
    }
   ],
   "source": [
    "a"
   ]
  },
  {
   "cell_type": "code",
   "execution_count": 109,
   "id": "27fa1f46-56c2-491c-ae93-10ec11d3e3d4",
   "metadata": {},
   "outputs": [
    {
     "data": {
      "text/plain": [
       "array([[1, 3, 4],\n",
       "       [1, 1, 4]])"
      ]
     },
     "execution_count": 109,
     "metadata": {},
     "output_type": "execute_result"
    }
   ],
   "source": [
    "b"
   ]
  },
  {
   "cell_type": "code",
   "execution_count": 112,
   "id": "b0f79bf2-9ad6-4f67-b492-51dcef73085c",
   "metadata": {},
   "outputs": [
    {
     "name": "stderr",
     "output_type": "stream",
     "text": [
      "/tmp/ipykernel_102/4102073204.py:1: RuntimeWarning: divide by zero encountered in divide\n",
      "  a/0\n"
     ]
    },
    {
     "data": {
      "text/plain": [
       "array([[inf, inf, inf],\n",
       "       [inf, inf, inf]])"
      ]
     },
     "execution_count": 112,
     "metadata": {},
     "output_type": "execute_result"
    }
   ],
   "source": [
    "a/0"
   ]
  },
  {
   "cell_type": "code",
   "execution_count": 116,
   "id": "ddeb2442-4129-488c-98eb-57111431fb16",
   "metadata": {},
   "outputs": [],
   "source": [
    "a=a.T"
   ]
  },
  {
   "cell_type": "code",
   "execution_count": 117,
   "id": "aac986a9-572c-49a0-8881-346a37c910f5",
   "metadata": {},
   "outputs": [
    {
     "data": {
      "text/plain": [
       "array([[2, 4],\n",
       "       [3, 3],\n",
       "       [2, 1]])"
      ]
     },
     "execution_count": 117,
     "metadata": {},
     "output_type": "execute_result"
    }
   ],
   "source": [
    "a"
   ]
  },
  {
   "cell_type": "code",
   "execution_count": 118,
   "id": "e87d56e9-af02-4dc3-aa90-d31a61425d07",
   "metadata": {},
   "outputs": [
    {
     "data": {
      "text/plain": [
       "array([[ 6, 10, 24],\n",
       "       [ 6, 12, 24],\n",
       "       [ 3,  7, 12]])"
      ]
     },
     "execution_count": 118,
     "metadata": {},
     "output_type": "execute_result"
    }
   ],
   "source": [
    "a@b"
   ]
  },
  {
   "cell_type": "code",
   "execution_count": 120,
   "id": "a5847c82-4934-4636-9817-d30d8f3fb689",
   "metadata": {},
   "outputs": [
    {
     "data": {
      "text/plain": [
       "array([[ 6, 10, 24],\n",
       "       [ 6, 12, 24],\n",
       "       [ 3,  7, 12]])"
      ]
     },
     "execution_count": 120,
     "metadata": {},
     "output_type": "execute_result"
    }
   ],
   "source": [
    "np.dot(a,b)"
   ]
  },
  {
   "cell_type": "code",
   "execution_count": 133,
   "id": "e432f76b-2ae6-4c1c-a2f8-60c0f735f9fd",
   "metadata": {},
   "outputs": [],
   "source": [
    "a=[[[1,2,3],[4,5,6],[7,8,9]],[[3,2,1],[6,5,4],[9,8,7]]]"
   ]
  },
  {
   "cell_type": "code",
   "execution_count": 137,
   "id": "d649ab90-b133-44d1-9577-a7aafc686f6a",
   "metadata": {},
   "outputs": [
    {
     "data": {
      "text/plain": [
       "array([[[1, 2, 3],\n",
       "        [4, 5, 6],\n",
       "        [7, 8, 9]],\n",
       "\n",
       "       [[3, 2, 1],\n",
       "        [6, 5, 4],\n",
       "        [9, 8, 7]]])"
      ]
     },
     "execution_count": 137,
     "metadata": {},
     "output_type": "execute_result"
    }
   ],
   "source": [
    "a=np.array(a)\n",
    "a"
   ]
  },
  {
   "cell_type": "code",
   "execution_count": 138,
   "id": "db1fad62-8f69-465b-84c3-a29a2146635c",
   "metadata": {},
   "outputs": [
    {
     "data": {
      "text/plain": [
       "array([1, 2, 3, 4, 5, 6, 7, 8, 9, 3, 2, 1, 6, 5, 4, 9, 8, 7])"
      ]
     },
     "execution_count": 138,
     "metadata": {},
     "output_type": "execute_result"
    }
   ],
   "source": [
    "a.flatten()"
   ]
  },
  {
   "cell_type": "code",
   "execution_count": 141,
   "id": "61c0f9cd-72a2-4400-a71e-2fdfddcd9be0",
   "metadata": {},
   "outputs": [
    {
     "data": {
      "text/plain": [
       "array([[[[1, 2, 3],\n",
       "         [4, 5, 6],\n",
       "         [7, 8, 9]],\n",
       "\n",
       "        [[3, 2, 1],\n",
       "         [6, 5, 4],\n",
       "         [9, 8, 7]]]])"
      ]
     },
     "execution_count": 141,
     "metadata": {},
     "output_type": "execute_result"
    }
   ],
   "source": [
    "np.expand_dims(a,axis=0)"
   ]
  },
  {
   "cell_type": "code",
   "execution_count": 142,
   "id": "011a6e82-04de-4114-8b2c-91bdd33d0868",
   "metadata": {},
   "outputs": [
    {
     "data": {
      "text/plain": [
       "array([[[[1, 2, 3],\n",
       "         [4, 5, 6],\n",
       "         [7, 8, 9]]],\n",
       "\n",
       "\n",
       "       [[[3, 2, 1],\n",
       "         [6, 5, 4],\n",
       "         [9, 8, 7]]]])"
      ]
     },
     "execution_count": 142,
     "metadata": {},
     "output_type": "execute_result"
    }
   ],
   "source": [
    "np.expand_dims(a,axis=1)"
   ]
  },
  {
   "cell_type": "code",
   "execution_count": 143,
   "id": "6917a3de-b7ff-42c0-8cfd-25c76afde847",
   "metadata": {},
   "outputs": [
    {
     "data": {
      "text/plain": [
       "array([[[1, 2, 3],\n",
       "        [4, 5, 6],\n",
       "        [7, 8, 9]],\n",
       "\n",
       "       [[3, 2, 1],\n",
       "        [6, 5, 4],\n",
       "        [9, 8, 7]]])"
      ]
     },
     "execution_count": 143,
     "metadata": {},
     "output_type": "execute_result"
    }
   ],
   "source": [
    "np.squeeze(a)"
   ]
  },
  {
   "cell_type": "code",
   "execution_count": 149,
   "id": "73b42f8f-8130-4a3f-bd00-f54959736dd6",
   "metadata": {},
   "outputs": [
    {
     "data": {
      "text/plain": [
       "array([1, 2])"
      ]
     },
     "execution_count": 149,
     "metadata": {},
     "output_type": "execute_result"
    }
   ],
   "source": [
    "a[0][0][0:2]"
   ]
  },
  {
   "cell_type": "code",
   "execution_count": 162,
   "id": "f96e0aeb-4e95-4e85-b884-bf54be3f34c8",
   "metadata": {},
   "outputs": [
    {
     "data": {
      "text/plain": [
       "array([[5, 6],\n",
       "       [8, 9]])"
      ]
     },
     "execution_count": 162,
     "metadata": {},
     "output_type": "execute_result"
    }
   ],
   "source": [
    "a[0,1:3,1:3]"
   ]
  },
  {
   "cell_type": "code",
   "execution_count": 163,
   "id": "6d681af1-3ae1-4870-a037-dcd936819c17",
   "metadata": {},
   "outputs": [
    {
     "data": {
      "text/plain": [
       "array([[[1, 2, 3],\n",
       "        [4, 5, 6],\n",
       "        [7, 8, 9]],\n",
       "\n",
       "       [[3, 2, 1],\n",
       "        [6, 5, 4],\n",
       "        [9, 8, 7]]])"
      ]
     },
     "execution_count": 163,
     "metadata": {},
     "output_type": "execute_result"
    }
   ],
   "source": [
    "a"
   ]
  },
  {
   "cell_type": "code",
   "execution_count": 164,
   "id": "b3f0a1ac-0ed2-492b-8d8a-2e5a0a8a877c",
   "metadata": {},
   "outputs": [
    {
     "data": {
      "text/plain": [
       "array([[1, 2, 3],\n",
       "       [4, 5, 6],\n",
       "       [7, 8, 9],\n",
       "       [3, 2, 1],\n",
       "       [6, 5, 4],\n",
       "       [9, 8, 7]])"
      ]
     },
     "execution_count": 164,
     "metadata": {},
     "output_type": "execute_result"
    }
   ],
   "source": [
    "a.reshape(6,3)"
   ]
  },
  {
   "cell_type": "code",
   "execution_count": 167,
   "id": "116a68f4-0535-4315-9569-a012155b7a6f",
   "metadata": {},
   "outputs": [
    {
     "data": {
      "text/plain": [
       "array([[[1, 2, 3],\n",
       "        [4, 5, 6]],\n",
       "\n",
       "       [[7, 8, 9],\n",
       "        [3, 2, 1]],\n",
       "\n",
       "       [[6, 5, 4],\n",
       "        [9, 8, 7]]])"
      ]
     },
     "execution_count": 167,
     "metadata": {},
     "output_type": "execute_result"
    }
   ],
   "source": [
    "a.reshape(3,2,3)"
   ]
  },
  {
   "cell_type": "code",
   "execution_count": 168,
   "id": "18f2e9e1-ee88-4be9-bd19-6c77544ab92c",
   "metadata": {},
   "outputs": [
    {
     "data": {
      "text/plain": [
       "9"
      ]
     },
     "execution_count": 168,
     "metadata": {},
     "output_type": "execute_result"
    }
   ],
   "source": [
    "np.max(a)"
   ]
  },
  {
   "cell_type": "code",
   "execution_count": 169,
   "id": "669271bc-725a-4f86-a968-a12e0c6d42c2",
   "metadata": {},
   "outputs": [
    {
     "data": {
      "text/plain": [
       "8"
      ]
     },
     "execution_count": 169,
     "metadata": {},
     "output_type": "execute_result"
    }
   ],
   "source": [
    "np.argmax(a)"
   ]
  },
  {
   "cell_type": "code",
   "execution_count": 170,
   "id": "d1e84370-3658-4ec4-8399-951dd0cfa072",
   "metadata": {},
   "outputs": [
    {
     "data": {
      "text/plain": [
       "array([[[1, 2, 3],\n",
       "        [4, 5, 6],\n",
       "        [7, 8, 9]],\n",
       "\n",
       "       [[3, 2, 1],\n",
       "        [6, 5, 4],\n",
       "        [9, 8, 7]]])"
      ]
     },
     "execution_count": 170,
     "metadata": {},
     "output_type": "execute_result"
    }
   ],
   "source": [
    "a"
   ]
  },
  {
   "cell_type": "code",
   "execution_count": 171,
   "id": "3b9b557a-c65f-44a8-b0ea-63bdb68cb509",
   "metadata": {},
   "outputs": [
    {
     "data": {
      "text/plain": [
       "array([[[ 0.84147098,  0.90929743,  0.14112001],\n",
       "        [-0.7568025 , -0.95892427, -0.2794155 ],\n",
       "        [ 0.6569866 ,  0.98935825,  0.41211849]],\n",
       "\n",
       "       [[ 0.14112001,  0.90929743,  0.84147098],\n",
       "        [-0.2794155 , -0.95892427, -0.7568025 ],\n",
       "        [ 0.41211849,  0.98935825,  0.6569866 ]]])"
      ]
     },
     "execution_count": 171,
     "metadata": {},
     "output_type": "execute_result"
    }
   ],
   "source": [
    "np.sin(a)"
   ]
  },
  {
   "cell_type": "code",
   "execution_count": 173,
   "id": "9e7c37b4-f470-4db4-a92f-0cd8b4c07397",
   "metadata": {},
   "outputs": [
    {
     "data": {
      "text/plain": [
       "array([1, 1, 2, 2, 3, 3, 4, 4, 5, 5, 6, 6, 7, 7, 8, 8, 9, 9, 3, 3, 2, 2,\n",
       "       1, 1, 6, 6, 5, 5, 4, 4, 9, 9, 8, 8, 7, 7])"
      ]
     },
     "execution_count": 173,
     "metadata": {},
     "output_type": "execute_result"
    }
   ],
   "source": [
    "np.repeat(a,2)"
   ]
  },
  {
   "cell_type": "code",
   "execution_count": 176,
   "id": "e0fd8116-0468-41d1-a94c-186b14b7e923",
   "metadata": {},
   "outputs": [
    {
     "data": {
      "text/plain": [
       "array([[[5, 4, 9],\n",
       "        [8, 7, 1],\n",
       "        [2, 3, 4]],\n",
       "\n",
       "       [[5, 6, 7],\n",
       "        [8, 9, 3],\n",
       "        [2, 1, 6]]])"
      ]
     },
     "execution_count": 176,
     "metadata": {},
     "output_type": "execute_result"
    }
   ],
   "source": [
    "np.roll(a,5)"
   ]
  },
  {
   "cell_type": "code",
   "execution_count": 177,
   "id": "8d9eb52b-4ecd-4e22-849d-63fc0ff74a2f",
   "metadata": {},
   "outputs": [],
   "source": [
    "a=np.array([1,2,3,4,5])"
   ]
  },
  {
   "cell_type": "code",
   "execution_count": 180,
   "id": "aa5b94a1-573b-4415-9aee-bd6a26b1fe2a",
   "metadata": {},
   "outputs": [
    {
     "data": {
      "text/plain": [
       "array([5, 1, 2, 3, 4])"
      ]
     },
     "execution_count": 180,
     "metadata": {},
     "output_type": "execute_result"
    }
   ],
   "source": [
    "np.roll(a,6)"
   ]
  },
  {
   "cell_type": "code",
   "execution_count": 182,
   "id": "c7ed6168-0c02-4fcc-acf0-b6869371cc01",
   "metadata": {},
   "outputs": [
    {
     "data": {
      "text/plain": [
       "array([[1, 0, 0, 0, 0],\n",
       "       [0, 2, 0, 0, 0],\n",
       "       [0, 0, 3, 0, 0],\n",
       "       [0, 0, 0, 4, 0],\n",
       "       [0, 0, 0, 0, 5]])"
      ]
     },
     "execution_count": 182,
     "metadata": {},
     "output_type": "execute_result"
    }
   ],
   "source": [
    "np.diag(a)"
   ]
  },
  {
   "cell_type": "code",
   "execution_count": 185,
   "id": "41b3b164-e49f-48e6-9671-8123741c5f2d",
   "metadata": {},
   "outputs": [
    {
     "data": {
      "text/plain": [
       "array([[1., 0., 0., 0., 0.],\n",
       "       [0., 1., 0., 0., 0.],\n",
       "       [0., 0., 1., 0., 0.],\n",
       "       [0., 0., 0., 1., 0.],\n",
       "       [0., 0., 0., 0., 1.]])"
      ]
     },
     "execution_count": 185,
     "metadata": {},
     "output_type": "execute_result"
    }
   ],
   "source": [
    "np.eye(5)"
   ]
  },
  {
   "cell_type": "code",
   "execution_count": 189,
   "id": "bcb3077f-0f00-4987-9441-3434a44ef3a4",
   "metadata": {},
   "outputs": [
    {
     "data": {
      "text/plain": [
       "array([94511057641821,              0,              0])"
      ]
     },
     "execution_count": 189,
     "metadata": {},
     "output_type": "execute_result"
    }
   ],
   "source": [
    "np.empty(3,int)"
   ]
  },
  {
   "cell_type": "code",
   "execution_count": null,
   "id": "c1580f71-db1a-43b7-b4b7-dced23586a4d",
   "metadata": {},
   "outputs": [],
   "source": []
  }
 ],
 "metadata": {
  "kernelspec": {
   "display_name": "Python 3 (ipykernel)",
   "language": "python",
   "name": "python3"
  },
  "language_info": {
   "codemirror_mode": {
    "name": "ipython",
    "version": 3
   },
   "file_extension": ".py",
   "mimetype": "text/x-python",
   "name": "python",
   "nbconvert_exporter": "python",
   "pygments_lexer": "ipython3",
   "version": "3.10.8"
  }
 },
 "nbformat": 4,
 "nbformat_minor": 5
}
